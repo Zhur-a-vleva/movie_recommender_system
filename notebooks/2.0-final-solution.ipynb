{
 "cells": [
  {
   "cell_type": "markdown",
   "id": "513b6715-ed0a-4388-9db3-a139fd0ceea0",
   "metadata": {},
   "source": [
    "# Imports"
   ]
  },
  {
   "cell_type": "code",
   "execution_count": 1,
   "id": "c105b67a-acd0-482a-a5e7-8c3cce4fc472",
   "metadata": {
    "tags": [],
    "ExecuteTime": {
     "end_time": "2023-12-03T13:38:59.183822Z",
     "start_time": "2023-12-03T13:38:57.158165Z"
    }
   },
   "outputs": [],
   "source": [
    "import torch.nn as nn\n",
    "from torch_geometric.nn import SAGEConv, HeteroConv\n",
    "from torch_geometric.typing import Tensor\n",
    "from torch_geometric.transforms import RandomLinkSplit\n",
    "import pandas as pd\n",
    "import torch\n",
    "from torch_geometric.loader import LinkNeighborLoader\n",
    "from torch_geometric.data import HeteroData\n",
    "import tqdm\n",
    "import os\n",
    "import warnings\n",
    "\n",
    "warnings.filterwarnings(\"ignore\")"
   ]
  },
  {
   "cell_type": "markdown",
   "id": "9252344b-43a9-430f-95bb-4be0c15a7f7a",
   "metadata": {},
   "source": [
    "# Model Architecture"
   ]
  },
  {
   "cell_type": "code",
   "execution_count": 2,
   "outputs": [],
   "source": [
    "class GNNModel(nn.Module):\n",
    "\n",
    "    def __init__(self, user_dim: int, movie_dim: int, hidden_dim: int):\n",
    "        super().__init__()\n",
    "\n",
    "        self.conv1 = HeteroConv({\n",
    "            (\"user\", \"rates\", \"movie\"): SAGEConv((user_dim, movie_dim), hidden_dim),\n",
    "            (\"movie\", \"rated_by\", \"user\"): SAGEConv((movie_dim, user_dim), hidden_dim),\n",
    "        }, aggr=\"sum\")\n",
    "\n",
    "        self.conv2 = HeteroConv({\n",
    "            (\"user\", \"rates\", \"movie\"): SAGEConv(hidden_dim, hidden_dim),\n",
    "            (\"movie\", \"rated_by\", \"user\"): SAGEConv(hidden_dim, hidden_dim),\n",
    "        }, aggr=\"sum\")\n",
    "\n",
    "    def forward(self, x: Tensor, edge_index: Tensor):\n",
    "        x = self.conv1(x, edge_index)\n",
    "        x = self.conv2(x, edge_index)\n",
    "        return x"
   ],
   "metadata": {
    "collapsed": false,
    "ExecuteTime": {
     "end_time": "2023-12-03T13:38:59.188253Z",
     "start_time": "2023-12-03T13:38:59.185422Z"
    }
   }
  },
  {
   "cell_type": "code",
   "execution_count": 3,
   "outputs": [],
   "source": [
    "class RecSystem(nn.Module):\n",
    "\n",
    "    def __init__(self, user_dim, movie_dim, hidden_dim):\n",
    "        super().__init__()\n",
    "\n",
    "        self.gnn = GNNModel(user_dim, movie_dim, hidden_dim)\n",
    "        self.cos_sim = nn.CosineSimilarity()\n",
    "        self.scale_to_rating = lambda x: (x + 1) * 2.5\n",
    "\n",
    "    def forward(self, data: HeteroData, get_embeddings=False) -> Tensor:\n",
    "        x, edge_index = data.x_dict, data.edge_index_dict\n",
    "\n",
    "        node_embeddings = self.gnn(x, edge_index)\n",
    "\n",
    "        if get_embeddings:\n",
    "            return node_embeddings\n",
    "\n",
    "        edge_label_index = data[\"user\", \"rates\", \"movie\"].edge_label_index\n",
    "\n",
    "        edge_feat_user = node_embeddings[\"user\"][edge_label_index[0]]\n",
    "        edge_feat_movie = node_embeddings[\"movie\"][edge_label_index[1]]\n",
    "\n",
    "        return self.scale_to_rating(self.cos_sim(edge_feat_user, edge_feat_movie))\n",
    "\n",
    "    def predict_ratings(self, user_embeds: Tensor, movie_embeds: Tensor, edge_label_index: Tensor) -> Tensor:\n",
    "        edge_feat_user = user_embeds[edge_label_index[0]]\n",
    "        edge_feat_movie = movie_embeds[edge_label_index[1]]\n",
    "\n",
    "        return self.scale_to_rating(self.cos_sim(edge_feat_user, edge_feat_movie))"
   ],
   "metadata": {
    "collapsed": false,
    "ExecuteTime": {
     "end_time": "2023-12-03T13:38:59.191819Z",
     "start_time": "2023-12-03T13:38:59.187589Z"
    }
   }
  },
  {
   "cell_type": "markdown",
   "id": "c5d45720-22da-4883-bedb-5de2ffe4ac49",
   "metadata": {},
   "source": [
    "# Data preparation"
   ]
  },
  {
   "cell_type": "code",
   "execution_count": 5,
   "outputs": [],
   "source": [
    "def create_bipartite_graph_from_dataset(set_id):\n",
    "    user_df = pd.read_csv(\"../data/interim/users.csv\", index_col='user_id')\n",
    "    user_mapping = {idx: i for i, idx in enumerate(user_df.index)}\n",
    "\n",
    "    movie_df = pd.read_csv(\"../data/interim/items.csv\", index_col='movie_id')\n",
    "    movie_mapping = {idx: i for i, idx in enumerate(movie_df.index)}\n",
    "\n",
    "    genres = pd.read_csv(\"../data/raw/ml-100k/u.genre\", delimiter=\"|\", names=[\"name\", \"genre_id\"])\n",
    "    occupation = pd.read_csv(\"../data/raw/ml-100k/u.occupation\", names=[\"occupation\"])\n",
    "    occupation['occupation'] = 'occupation_' + occupation['occupation'].astype(str)\n",
    "\n",
    "    result = []\n",
    "    for rating_path in [f\"../data/raw/ml-100k/u{set_id}.base\", f\"../data/raw/ml-100k/u{set_id}.test\"]:\n",
    "        data = HeteroData()\n",
    "        data['movie'].x = torch.from_numpy(movie_df[genres.name].values.astype(float)).to(torch.float)\n",
    "        data['user'].x = torch.cat(\n",
    "            [torch.from_numpy(user_df['age'].values / user_df['age'].values.max()).to(torch.float).view(-1, 1),\n",
    "             torch.from_numpy(user_df[['F', 'M']].values).to(torch.float),\n",
    "             torch.from_numpy(user_df[occupation['occupation']].values).to(torch.float)], dim=-1)\n",
    "\n",
    "        df = pd.read_csv(rating_path, sep='\\t', header=None, names=[\"user_id\", \"movie_id\", \"rating\", \"timestamp\"])\n",
    "\n",
    "        src = [user_mapping[idx] for idx in df['user_id']]\n",
    "        dst = [movie_mapping[idx] for idx in df['movie_id']]\n",
    "\n",
    "        data['user', 'rates', 'movie'].edge_index = torch.tensor([src, dst])\n",
    "        data['user', 'rates', 'movie'].edge_label = torch.from_numpy(df['rating'].values).to(torch.long)\n",
    "        data['movie', 'rated_by', 'user'].edge_index = torch.tensor([src, dst]).flip([0])\n",
    "\n",
    "        result.append(data)\n",
    "\n",
    "    return result"
   ],
   "metadata": {
    "collapsed": false,
    "ExecuteTime": {
     "end_time": "2023-12-03T09:07:23.634229Z",
     "start_time": "2023-12-03T09:07:23.632439Z"
    }
   }
  },
  {
   "cell_type": "code",
   "execution_count": 6,
   "outputs": [],
   "source": [
    "data_parts = [\"1\", \"2\", \"3\", \"4\", \"5\", \"a\", \"b\"]\n",
    "\n",
    "transform = RandomLinkSplit(num_val=0.2, num_test=0.0, add_negative_train_samples=False, neg_sampling_ratio=0.0,\n",
    "                            edge_types=(\"user\", \"rates\", \"movie\"), rev_edge_types=(\"movie\", \"rated_by\", \"user\"), )\n",
    "\n",
    "for part in data_parts:\n",
    "    data, test_data = create_bipartite_graph_from_dataset(part)\n",
    "    train_data, val_data, _ = transform(data)\n",
    "\n",
    "    torch.save(train_data.to_dict(), f\"../data/prepared/data{part}_train.pt\")\n",
    "    torch.save(test_data.to_dict(), f\"../data/prepared/data{part}_test.pt\")\n",
    "    torch.save(val_data.to_dict(), f\"../data/prepared/data{part}_val.pt\")"
   ],
   "metadata": {
    "collapsed": false,
    "ExecuteTime": {
     "end_time": "2023-12-03T09:07:24.282834Z",
     "start_time": "2023-12-03T09:07:23.636021Z"
    }
   }
  },
  {
   "cell_type": "markdown",
   "id": "0bca5815-7e2f-48d9-8316-df6d0b67e00a",
   "metadata": {},
   "source": [
    "# Training"
   ]
  },
  {
   "cell_type": "code",
   "execution_count": 8,
   "outputs": [],
   "source": [
    "BEST_MODEL_PATH = \"../models/best_model_{}.pt\"\n",
    "LOGS_DIR_PATH = \"../benchmark/logs\"\n",
    "BENCHMARK_DIR_PATH = \"../benchmark\""
   ],
   "metadata": {
    "collapsed": false,
    "ExecuteTime": {
     "end_time": "2023-12-03T13:39:21.300313Z",
     "start_time": "2023-12-03T13:39:21.293869Z"
    }
   }
  },
  {
   "cell_type": "code",
   "execution_count": 5,
   "outputs": [],
   "source": [
    "def train_loop(model, train_loader, optimizer, loss_fn):\n",
    "    model.train()\n",
    "    total_loss = 0\n",
    "    train_bar = tqdm.tqdm(train_loader, desc=f\"Epoch {epoch + 1}\")\n",
    "    for i, sampled_data in enumerate(train_bar):\n",
    "        optimizer.zero_grad()\n",
    "        # Get predictions from model and true labels\n",
    "        pred = model(sampled_data)\n",
    "        ground_truth = sampled_data[\"user\", \"rates\", \"movie\"].edge_label\n",
    "        # Calculate loss and update gradients\n",
    "        loss = loss_fn(pred, ground_truth.float())\n",
    "        loss.backward()\n",
    "        optimizer.step()\n",
    "        # Keep track of total loss\n",
    "        total_loss += loss.item()\n",
    "\n",
    "        train_bar.set_postfix({\"train_loss_rmse\": (total_loss / (i + 1)) ** 0.5})\n",
    "\n",
    "    # Get average loss per epoch\n",
    "    total_loss = total_loss / len(train_loader)\n",
    "    return total_loss ** 0.5"
   ],
   "metadata": {
    "collapsed": false,
    "ExecuteTime": {
     "end_time": "2023-12-03T12:14:00.564428Z",
     "start_time": "2023-12-03T12:14:00.560086Z"
    }
   }
  },
  {
   "cell_type": "code",
   "execution_count": 6,
   "outputs": [],
   "source": [
    "def validate(model, val_data, loss_fn):\n",
    "    model.eval()\n",
    "    with torch.no_grad():\n",
    "        # Get predictions from model and true labels\n",
    "        embeds = model(val_data, get_embeddings=True)\n",
    "        edges = val_data[\"user\", \"rates\", \"movie\"].edge_label_index\n",
    "        pred = model.predict_ratings(embeds[\"user\"], embeds[\"movie\"], edges)\n",
    "        ground_truth = val_data[\"user\", \"rates\", \"movie\"].edge_label\n",
    "        # Calculate loss and total loss\n",
    "        loss = loss_fn(pred, ground_truth.float())\n",
    "        val_loss = loss.item()\n",
    "    return val_loss ** 0.5"
   ],
   "metadata": {
    "collapsed": false,
    "ExecuteTime": {
     "end_time": "2023-12-03T12:14:01.009080Z",
     "start_time": "2023-12-03T12:14:01.005440Z"
    }
   }
  },
  {
   "cell_type": "code",
   "execution_count": 6,
   "outputs": [],
   "source": [
    "epochs = 10\n",
    "batch_size = 256\n",
    "device = torch.device('cpu')\n",
    "loss_fn = nn.MSELoss()"
   ],
   "metadata": {
    "collapsed": false,
    "ExecuteTime": {
     "end_time": "2023-12-03T13:39:14.762402Z",
     "start_time": "2023-12-03T13:39:14.756495Z"
    }
   }
  },
  {
   "cell_type": "code",
   "execution_count": 19,
   "outputs": [
    {
     "name": "stdout",
     "output_type": "stream",
     "text": [
      "Training on part 1\n"
     ]
    },
    {
     "name": "stderr",
     "output_type": "stream",
     "text": [
      "Epoch 1: 100%|██████████| 250/250 [00:13<00:00, 18.78it/s, train_loss_rmse=1.07]\n"
     ]
    },
    {
     "name": "stdout",
     "output_type": "stream",
     "text": [
      "Epoch: 1, train_loss: 1.0682, val_loss: 1.0427\n"
     ]
    },
    {
     "name": "stderr",
     "output_type": "stream",
     "text": [
      "Epoch 2: 100%|██████████| 250/250 [00:13<00:00, 18.90it/s, train_loss_rmse=1.03]\n"
     ]
    },
    {
     "name": "stdout",
     "output_type": "stream",
     "text": [
      "Epoch: 2, train_loss: 1.0286, val_loss: 1.0241\n"
     ]
    },
    {
     "name": "stderr",
     "output_type": "stream",
     "text": [
      "Epoch 3: 100%|██████████| 250/250 [00:14<00:00, 17.53it/s, train_loss_rmse=1.01]\n"
     ]
    },
    {
     "name": "stdout",
     "output_type": "stream",
     "text": [
      "Epoch: 3, train_loss: 1.0148, val_loss: 1.0140\n"
     ]
    },
    {
     "name": "stderr",
     "output_type": "stream",
     "text": [
      "Epoch 4: 100%|██████████| 250/250 [00:13<00:00, 18.86it/s, train_loss_rmse=1.01]\n"
     ]
    },
    {
     "name": "stdout",
     "output_type": "stream",
     "text": [
      "Epoch: 4, train_loss: 1.0062, val_loss: 1.0085\n"
     ]
    },
    {
     "name": "stderr",
     "output_type": "stream",
     "text": [
      "Epoch 5: 100%|██████████| 250/250 [00:13<00:00, 18.74it/s, train_loss_rmse=1]   \n"
     ]
    },
    {
     "name": "stdout",
     "output_type": "stream",
     "text": [
      "Epoch: 5, train_loss: 1.0010, val_loss: 1.0052\n"
     ]
    },
    {
     "name": "stderr",
     "output_type": "stream",
     "text": [
      "Epoch 6: 100%|██████████| 250/250 [00:13<00:00, 18.69it/s, train_loss_rmse=0.997]\n"
     ]
    },
    {
     "name": "stdout",
     "output_type": "stream",
     "text": [
      "Epoch: 6, train_loss: 0.9973, val_loss: 1.0022\n"
     ]
    },
    {
     "name": "stderr",
     "output_type": "stream",
     "text": [
      "Epoch 7: 100%|██████████| 250/250 [00:13<00:00, 19.06it/s, train_loss_rmse=0.994]\n"
     ]
    },
    {
     "name": "stdout",
     "output_type": "stream",
     "text": [
      "Epoch: 7, train_loss: 0.9937, val_loss: 0.9997\n"
     ]
    },
    {
     "name": "stderr",
     "output_type": "stream",
     "text": [
      "Epoch 8: 100%|██████████| 250/250 [00:13<00:00, 18.60it/s, train_loss_rmse=0.991]\n"
     ]
    },
    {
     "name": "stdout",
     "output_type": "stream",
     "text": [
      "Epoch: 8, train_loss: 0.9907, val_loss: 0.9994\n"
     ]
    },
    {
     "name": "stderr",
     "output_type": "stream",
     "text": [
      "Epoch 9: 100%|██████████| 250/250 [00:13<00:00, 18.66it/s, train_loss_rmse=0.99] \n"
     ]
    },
    {
     "name": "stdout",
     "output_type": "stream",
     "text": [
      "Epoch: 9, train_loss: 0.9898, val_loss: 0.9979\n"
     ]
    },
    {
     "name": "stderr",
     "output_type": "stream",
     "text": [
      "Epoch 10: 100%|██████████| 250/250 [00:13<00:00, 18.27it/s, train_loss_rmse=0.988]\n"
     ]
    },
    {
     "name": "stdout",
     "output_type": "stream",
     "text": [
      "Epoch: 10, train_loss: 0.9878, val_loss: 0.9965\n",
      "Training on part 2\n"
     ]
    },
    {
     "name": "stderr",
     "output_type": "stream",
     "text": [
      "Epoch 1: 100%|██████████| 250/250 [00:13<00:00, 18.48it/s, train_loss_rmse=1.08]\n"
     ]
    },
    {
     "name": "stdout",
     "output_type": "stream",
     "text": [
      "Epoch: 1, train_loss: 1.0773, val_loss: 1.0473\n"
     ]
    },
    {
     "name": "stderr",
     "output_type": "stream",
     "text": [
      "Epoch 2: 100%|██████████| 250/250 [00:13<00:00, 18.50it/s, train_loss_rmse=1.04]\n"
     ]
    },
    {
     "name": "stdout",
     "output_type": "stream",
     "text": [
      "Epoch: 2, train_loss: 1.0356, val_loss: 1.0243\n"
     ]
    },
    {
     "name": "stderr",
     "output_type": "stream",
     "text": [
      "Epoch 3: 100%|██████████| 250/250 [00:13<00:00, 18.51it/s, train_loss_rmse=1.02]\n"
     ]
    },
    {
     "name": "stdout",
     "output_type": "stream",
     "text": [
      "Epoch: 3, train_loss: 1.0193, val_loss: 1.0146\n"
     ]
    },
    {
     "name": "stderr",
     "output_type": "stream",
     "text": [
      "Epoch 4: 100%|██████████| 250/250 [00:13<00:00, 18.35it/s, train_loss_rmse=1.01]\n"
     ]
    },
    {
     "name": "stdout",
     "output_type": "stream",
     "text": [
      "Epoch: 4, train_loss: 1.0110, val_loss: 1.0102\n"
     ]
    },
    {
     "name": "stderr",
     "output_type": "stream",
     "text": [
      "Epoch 5: 100%|██████████| 250/250 [00:13<00:00, 18.50it/s, train_loss_rmse=1.01]\n"
     ]
    },
    {
     "name": "stdout",
     "output_type": "stream",
     "text": [
      "Epoch: 5, train_loss: 1.0062, val_loss: 1.0076\n"
     ]
    },
    {
     "name": "stderr",
     "output_type": "stream",
     "text": [
      "Epoch 6: 100%|██████████| 250/250 [00:13<00:00, 18.86it/s, train_loss_rmse=1]   \n"
     ]
    },
    {
     "name": "stdout",
     "output_type": "stream",
     "text": [
      "Epoch: 6, train_loss: 1.0024, val_loss: 1.0069\n"
     ]
    },
    {
     "name": "stderr",
     "output_type": "stream",
     "text": [
      "Epoch 7: 100%|██████████| 250/250 [00:13<00:00, 19.13it/s, train_loss_rmse=1]   \n"
     ]
    },
    {
     "name": "stdout",
     "output_type": "stream",
     "text": [
      "Epoch: 7, train_loss: 1.0003, val_loss: 1.0050\n"
     ]
    },
    {
     "name": "stderr",
     "output_type": "stream",
     "text": [
      "Epoch 8: 100%|██████████| 250/250 [00:13<00:00, 19.17it/s, train_loss_rmse=0.997]\n"
     ]
    },
    {
     "name": "stdout",
     "output_type": "stream",
     "text": [
      "Epoch: 8, train_loss: 0.9973, val_loss: 1.0026\n"
     ]
    },
    {
     "name": "stderr",
     "output_type": "stream",
     "text": [
      "Epoch 9: 100%|██████████| 250/250 [00:13<00:00, 19.10it/s, train_loss_rmse=0.996]\n"
     ]
    },
    {
     "name": "stdout",
     "output_type": "stream",
     "text": [
      "Epoch: 9, train_loss: 0.9957, val_loss: 1.0017\n"
     ]
    },
    {
     "name": "stderr",
     "output_type": "stream",
     "text": [
      "Epoch 10: 100%|██████████| 250/250 [00:13<00:00, 19.13it/s, train_loss_rmse=0.994]\n"
     ]
    },
    {
     "name": "stdout",
     "output_type": "stream",
     "text": [
      "Epoch: 10, train_loss: 0.9937, val_loss: 0.9996\n",
      "Training on part 3\n"
     ]
    },
    {
     "name": "stderr",
     "output_type": "stream",
     "text": [
      "Epoch 1: 100%|██████████| 250/250 [00:13<00:00, 17.95it/s, train_loss_rmse=1.07]\n"
     ]
    },
    {
     "name": "stdout",
     "output_type": "stream",
     "text": [
      "Epoch: 1, train_loss: 1.0736, val_loss: 1.0686\n"
     ]
    },
    {
     "name": "stderr",
     "output_type": "stream",
     "text": [
      "Epoch 2: 100%|██████████| 250/250 [00:13<00:00, 18.40it/s, train_loss_rmse=1.04]\n"
     ]
    },
    {
     "name": "stdout",
     "output_type": "stream",
     "text": [
      "Epoch: 2, train_loss: 1.0362, val_loss: 1.0379\n"
     ]
    },
    {
     "name": "stderr",
     "output_type": "stream",
     "text": [
      "Epoch 3: 100%|██████████| 250/250 [00:13<00:00, 18.22it/s, train_loss_rmse=1.02]\n"
     ]
    },
    {
     "name": "stdout",
     "output_type": "stream",
     "text": [
      "Epoch: 3, train_loss: 1.0205, val_loss: 1.0213\n"
     ]
    },
    {
     "name": "stderr",
     "output_type": "stream",
     "text": [
      "Epoch 4: 100%|██████████| 250/250 [00:13<00:00, 18.43it/s, train_loss_rmse=1.01]\n"
     ]
    },
    {
     "name": "stdout",
     "output_type": "stream",
     "text": [
      "Epoch: 4, train_loss: 1.0123, val_loss: 1.0144\n"
     ]
    },
    {
     "name": "stderr",
     "output_type": "stream",
     "text": [
      "Epoch 5: 100%|██████████| 250/250 [00:13<00:00, 18.43it/s, train_loss_rmse=1.01]\n"
     ]
    },
    {
     "name": "stdout",
     "output_type": "stream",
     "text": [
      "Epoch: 5, train_loss: 1.0077, val_loss: 1.0108\n"
     ]
    },
    {
     "name": "stderr",
     "output_type": "stream",
     "text": [
      "Epoch 6: 100%|██████████| 250/250 [00:13<00:00, 18.69it/s, train_loss_rmse=1]   \n"
     ]
    },
    {
     "name": "stdout",
     "output_type": "stream",
     "text": [
      "Epoch: 6, train_loss: 1.0042, val_loss: 1.0092\n"
     ]
    },
    {
     "name": "stderr",
     "output_type": "stream",
     "text": [
      "Epoch 7: 100%|██████████| 250/250 [00:13<00:00, 18.78it/s, train_loss_rmse=1]   \n"
     ]
    },
    {
     "name": "stdout",
     "output_type": "stream",
     "text": [
      "Epoch: 7, train_loss: 1.0013, val_loss: 1.0070\n"
     ]
    },
    {
     "name": "stderr",
     "output_type": "stream",
     "text": [
      "Epoch 8: 100%|██████████| 250/250 [00:13<00:00, 18.70it/s, train_loss_rmse=0.999]\n"
     ]
    },
    {
     "name": "stdout",
     "output_type": "stream",
     "text": [
      "Epoch: 8, train_loss: 0.9988, val_loss: 1.0048\n"
     ]
    },
    {
     "name": "stderr",
     "output_type": "stream",
     "text": [
      "Epoch 9: 100%|██████████| 250/250 [00:13<00:00, 18.69it/s, train_loss_rmse=0.997]\n"
     ]
    },
    {
     "name": "stdout",
     "output_type": "stream",
     "text": [
      "Epoch: 9, train_loss: 0.9968, val_loss: 1.0042\n"
     ]
    },
    {
     "name": "stderr",
     "output_type": "stream",
     "text": [
      "Epoch 10: 100%|██████████| 250/250 [00:13<00:00, 18.96it/s, train_loss_rmse=0.995]\n"
     ]
    },
    {
     "name": "stdout",
     "output_type": "stream",
     "text": [
      "Epoch: 10, train_loss: 0.9953, val_loss: 1.0022\n",
      "Training on part 4\n"
     ]
    },
    {
     "name": "stderr",
     "output_type": "stream",
     "text": [
      "Epoch 1: 100%|██████████| 250/250 [00:13<00:00, 18.90it/s, train_loss_rmse=1.08]\n"
     ]
    },
    {
     "name": "stdout",
     "output_type": "stream",
     "text": [
      "Epoch: 1, train_loss: 1.0830, val_loss: 1.0454\n"
     ]
    },
    {
     "name": "stderr",
     "output_type": "stream",
     "text": [
      "Epoch 2: 100%|██████████| 250/250 [00:13<00:00, 18.42it/s, train_loss_rmse=1.04]\n"
     ]
    },
    {
     "name": "stdout",
     "output_type": "stream",
     "text": [
      "Epoch: 2, train_loss: 1.0388, val_loss: 1.0224\n"
     ]
    },
    {
     "name": "stderr",
     "output_type": "stream",
     "text": [
      "Epoch 3: 100%|██████████| 250/250 [00:13<00:00, 18.93it/s, train_loss_rmse=1.02]\n"
     ]
    },
    {
     "name": "stdout",
     "output_type": "stream",
     "text": [
      "Epoch: 3, train_loss: 1.0216, val_loss: 1.0093\n"
     ]
    },
    {
     "name": "stderr",
     "output_type": "stream",
     "text": [
      "Epoch 4: 100%|██████████| 250/250 [00:13<00:00, 19.02it/s, train_loss_rmse=1.01]\n"
     ]
    },
    {
     "name": "stdout",
     "output_type": "stream",
     "text": [
      "Epoch: 4, train_loss: 1.0129, val_loss: 1.0033\n"
     ]
    },
    {
     "name": "stderr",
     "output_type": "stream",
     "text": [
      "Epoch 5: 100%|██████████| 250/250 [00:13<00:00, 18.84it/s, train_loss_rmse=1.01]\n"
     ]
    },
    {
     "name": "stdout",
     "output_type": "stream",
     "text": [
      "Epoch: 5, train_loss: 1.0079, val_loss: 0.9998\n"
     ]
    },
    {
     "name": "stderr",
     "output_type": "stream",
     "text": [
      "Epoch 6: 100%|██████████| 250/250 [00:13<00:00, 18.48it/s, train_loss_rmse=1]   \n"
     ]
    },
    {
     "name": "stdout",
     "output_type": "stream",
     "text": [
      "Epoch: 6, train_loss: 1.0040, val_loss: 0.9984\n"
     ]
    },
    {
     "name": "stderr",
     "output_type": "stream",
     "text": [
      "Epoch 7: 100%|██████████| 250/250 [00:13<00:00, 18.71it/s, train_loss_rmse=1]    \n"
     ]
    },
    {
     "name": "stdout",
     "output_type": "stream",
     "text": [
      "Epoch: 7, train_loss: 1.0013, val_loss: 0.9958\n"
     ]
    },
    {
     "name": "stderr",
     "output_type": "stream",
     "text": [
      "Epoch 8: 100%|██████████| 250/250 [00:13<00:00, 18.31it/s, train_loss_rmse=0.999]\n"
     ]
    },
    {
     "name": "stdout",
     "output_type": "stream",
     "text": [
      "Epoch: 8, train_loss: 0.9985, val_loss: 0.9938\n"
     ]
    },
    {
     "name": "stderr",
     "output_type": "stream",
     "text": [
      "Epoch 9: 100%|██████████| 250/250 [00:13<00:00, 18.70it/s, train_loss_rmse=0.996]\n"
     ]
    },
    {
     "name": "stdout",
     "output_type": "stream",
     "text": [
      "Epoch: 9, train_loss: 0.9965, val_loss: 0.9932\n"
     ]
    },
    {
     "name": "stderr",
     "output_type": "stream",
     "text": [
      "Epoch 10: 100%|██████████| 250/250 [00:13<00:00, 18.44it/s, train_loss_rmse=0.995]\n"
     ]
    },
    {
     "name": "stdout",
     "output_type": "stream",
     "text": [
      "Epoch: 10, train_loss: 0.9949, val_loss: 0.9918\n",
      "Training on part 5\n"
     ]
    },
    {
     "name": "stderr",
     "output_type": "stream",
     "text": [
      "Epoch 1: 100%|██████████| 250/250 [00:12<00:00, 19.32it/s, train_loss_rmse=1.08]\n"
     ]
    },
    {
     "name": "stdout",
     "output_type": "stream",
     "text": [
      "Epoch: 1, train_loss: 1.0765, val_loss: 1.0554\n"
     ]
    },
    {
     "name": "stderr",
     "output_type": "stream",
     "text": [
      "Epoch 2: 100%|██████████| 250/250 [00:13<00:00, 18.95it/s, train_loss_rmse=1.04]\n"
     ]
    },
    {
     "name": "stdout",
     "output_type": "stream",
     "text": [
      "Epoch: 2, train_loss: 1.0375, val_loss: 1.0319\n"
     ]
    },
    {
     "name": "stderr",
     "output_type": "stream",
     "text": [
      "Epoch 3: 100%|██████████| 250/250 [00:13<00:00, 19.15it/s, train_loss_rmse=1.02]\n"
     ]
    },
    {
     "name": "stdout",
     "output_type": "stream",
     "text": [
      "Epoch: 3, train_loss: 1.0218, val_loss: 1.0223\n"
     ]
    },
    {
     "name": "stderr",
     "output_type": "stream",
     "text": [
      "Epoch 4: 100%|██████████| 250/250 [00:13<00:00, 19.23it/s, train_loss_rmse=1.01]\n"
     ]
    },
    {
     "name": "stdout",
     "output_type": "stream",
     "text": [
      "Epoch: 4, train_loss: 1.0132, val_loss: 1.0211\n"
     ]
    },
    {
     "name": "stderr",
     "output_type": "stream",
     "text": [
      "Epoch 5: 100%|██████████| 250/250 [00:13<00:00, 18.85it/s, train_loss_rmse=1.01]\n"
     ]
    },
    {
     "name": "stdout",
     "output_type": "stream",
     "text": [
      "Epoch: 5, train_loss: 1.0078, val_loss: 1.0192\n"
     ]
    },
    {
     "name": "stderr",
     "output_type": "stream",
     "text": [
      "Epoch 6: 100%|██████████| 250/250 [00:13<00:00, 19.19it/s, train_loss_rmse=1]   \n"
     ]
    },
    {
     "name": "stdout",
     "output_type": "stream",
     "text": [
      "Epoch: 6, train_loss: 1.0040, val_loss: 1.0167\n"
     ]
    },
    {
     "name": "stderr",
     "output_type": "stream",
     "text": [
      "Epoch 7: 100%|██████████| 250/250 [00:13<00:00, 19.02it/s, train_loss_rmse=1]    \n"
     ]
    },
    {
     "name": "stdout",
     "output_type": "stream",
     "text": [
      "Epoch: 7, train_loss: 1.0002, val_loss: 1.0162\n"
     ]
    },
    {
     "name": "stderr",
     "output_type": "stream",
     "text": [
      "Epoch 8: 100%|██████████| 250/250 [00:12<00:00, 19.34it/s, train_loss_rmse=0.998]\n"
     ]
    },
    {
     "name": "stdout",
     "output_type": "stream",
     "text": [
      "Epoch: 8, train_loss: 0.9979, val_loss: 1.0124\n"
     ]
    },
    {
     "name": "stderr",
     "output_type": "stream",
     "text": [
      "Epoch 9: 100%|██████████| 250/250 [00:13<00:00, 19.15it/s, train_loss_rmse=0.995]\n"
     ]
    },
    {
     "name": "stdout",
     "output_type": "stream",
     "text": [
      "Epoch: 9, train_loss: 0.9954, val_loss: 1.0122\n"
     ]
    },
    {
     "name": "stderr",
     "output_type": "stream",
     "text": [
      "Epoch 10: 100%|██████████| 250/250 [00:13<00:00, 19.15it/s, train_loss_rmse=0.993]\n"
     ]
    },
    {
     "name": "stdout",
     "output_type": "stream",
     "text": [
      "Epoch: 10, train_loss: 0.9930, val_loss: 1.0127\n",
      "Training on part a\n"
     ]
    },
    {
     "name": "stderr",
     "output_type": "stream",
     "text": [
      "Epoch 1: 100%|██████████| 284/284 [00:16<00:00, 17.08it/s, train_loss_rmse=1.08]\n"
     ]
    },
    {
     "name": "stdout",
     "output_type": "stream",
     "text": [
      "Epoch: 1, train_loss: 1.0814, val_loss: 1.0605\n"
     ]
    },
    {
     "name": "stderr",
     "output_type": "stream",
     "text": [
      "Epoch 2: 100%|██████████| 284/284 [00:16<00:00, 17.09it/s, train_loss_rmse=1.04]\n"
     ]
    },
    {
     "name": "stdout",
     "output_type": "stream",
     "text": [
      "Epoch: 2, train_loss: 1.0389, val_loss: 1.0274\n"
     ]
    },
    {
     "name": "stderr",
     "output_type": "stream",
     "text": [
      "Epoch 3: 100%|██████████| 284/284 [00:16<00:00, 17.10it/s, train_loss_rmse=1.02]\n"
     ]
    },
    {
     "name": "stdout",
     "output_type": "stream",
     "text": [
      "Epoch: 3, train_loss: 1.0208, val_loss: 1.0138\n"
     ]
    },
    {
     "name": "stderr",
     "output_type": "stream",
     "text": [
      "Epoch 4: 100%|██████████| 284/284 [00:16<00:00, 17.05it/s, train_loss_rmse=1.01]\n"
     ]
    },
    {
     "name": "stdout",
     "output_type": "stream",
     "text": [
      "Epoch: 4, train_loss: 1.0112, val_loss: 1.0046\n"
     ]
    },
    {
     "name": "stderr",
     "output_type": "stream",
     "text": [
      "Epoch 5: 100%|██████████| 284/284 [00:16<00:00, 16.93it/s, train_loss_rmse=1.01]\n"
     ]
    },
    {
     "name": "stdout",
     "output_type": "stream",
     "text": [
      "Epoch: 5, train_loss: 1.0061, val_loss: 1.0001\n"
     ]
    },
    {
     "name": "stderr",
     "output_type": "stream",
     "text": [
      "Epoch 6: 100%|██████████| 284/284 [00:16<00:00, 16.90it/s, train_loss_rmse=1]   \n"
     ]
    },
    {
     "name": "stdout",
     "output_type": "stream",
     "text": [
      "Epoch: 6, train_loss: 1.0013, val_loss: 0.9963\n"
     ]
    },
    {
     "name": "stderr",
     "output_type": "stream",
     "text": [
      "Epoch 7: 100%|██████████| 284/284 [00:16<00:00, 16.73it/s, train_loss_rmse=0.998]\n"
     ]
    },
    {
     "name": "stdout",
     "output_type": "stream",
     "text": [
      "Epoch: 7, train_loss: 0.9985, val_loss: 0.9938\n"
     ]
    },
    {
     "name": "stderr",
     "output_type": "stream",
     "text": [
      "Epoch 8: 100%|██████████| 284/284 [00:16<00:00, 16.94it/s, train_loss_rmse=0.996]\n"
     ]
    },
    {
     "name": "stdout",
     "output_type": "stream",
     "text": [
      "Epoch: 8, train_loss: 0.9956, val_loss: 0.9920\n"
     ]
    },
    {
     "name": "stderr",
     "output_type": "stream",
     "text": [
      "Epoch 9: 100%|██████████| 284/284 [00:16<00:00, 17.08it/s, train_loss_rmse=0.993]\n"
     ]
    },
    {
     "name": "stdout",
     "output_type": "stream",
     "text": [
      "Epoch: 9, train_loss: 0.9928, val_loss: 0.9902\n"
     ]
    },
    {
     "name": "stderr",
     "output_type": "stream",
     "text": [
      "Epoch 10: 100%|██████████| 284/284 [00:16<00:00, 17.10it/s, train_loss_rmse=0.991]\n"
     ]
    },
    {
     "name": "stdout",
     "output_type": "stream",
     "text": [
      "Epoch: 10, train_loss: 0.9910, val_loss: 0.9899\n",
      "Training on part b\n"
     ]
    },
    {
     "name": "stderr",
     "output_type": "stream",
     "text": [
      "Epoch 1: 100%|██████████| 284/284 [00:17<00:00, 16.70it/s, train_loss_rmse=1.08]\n"
     ]
    },
    {
     "name": "stdout",
     "output_type": "stream",
     "text": [
      "Epoch: 1, train_loss: 1.0759, val_loss: 1.0448\n"
     ]
    },
    {
     "name": "stderr",
     "output_type": "stream",
     "text": [
      "Epoch 2: 100%|██████████| 284/284 [00:16<00:00, 16.74it/s, train_loss_rmse=1.03]\n"
     ]
    },
    {
     "name": "stdout",
     "output_type": "stream",
     "text": [
      "Epoch: 2, train_loss: 1.0323, val_loss: 1.0211\n"
     ]
    },
    {
     "name": "stderr",
     "output_type": "stream",
     "text": [
      "Epoch 3: 100%|██████████| 284/284 [00:17<00:00, 16.13it/s, train_loss_rmse=1.02]\n"
     ]
    },
    {
     "name": "stdout",
     "output_type": "stream",
     "text": [
      "Epoch: 3, train_loss: 1.0164, val_loss: 1.0089\n"
     ]
    },
    {
     "name": "stderr",
     "output_type": "stream",
     "text": [
      "Epoch 4: 100%|██████████| 284/284 [00:17<00:00, 16.38it/s, train_loss_rmse=1.01]\n"
     ]
    },
    {
     "name": "stdout",
     "output_type": "stream",
     "text": [
      "Epoch: 4, train_loss: 1.0081, val_loss: 1.0022\n"
     ]
    },
    {
     "name": "stderr",
     "output_type": "stream",
     "text": [
      "Epoch 5: 100%|██████████| 284/284 [00:17<00:00, 16.38it/s, train_loss_rmse=1]   \n"
     ]
    },
    {
     "name": "stdout",
     "output_type": "stream",
     "text": [
      "Epoch: 5, train_loss: 1.0037, val_loss: 0.9997\n"
     ]
    },
    {
     "name": "stderr",
     "output_type": "stream",
     "text": [
      "Epoch 6: 100%|██████████| 284/284 [00:17<00:00, 16.38it/s, train_loss_rmse=1]    \n"
     ]
    },
    {
     "name": "stdout",
     "output_type": "stream",
     "text": [
      "Epoch: 6, train_loss: 0.9998, val_loss: 0.9968\n"
     ]
    },
    {
     "name": "stderr",
     "output_type": "stream",
     "text": [
      "Epoch 7: 100%|██████████| 284/284 [00:17<00:00, 16.33it/s, train_loss_rmse=0.997]\n"
     ]
    },
    {
     "name": "stdout",
     "output_type": "stream",
     "text": [
      "Epoch: 7, train_loss: 0.9970, val_loss: 0.9929\n"
     ]
    },
    {
     "name": "stderr",
     "output_type": "stream",
     "text": [
      "Epoch 8: 100%|██████████| 284/284 [00:17<00:00, 16.32it/s, train_loss_rmse=0.995]\n"
     ]
    },
    {
     "name": "stdout",
     "output_type": "stream",
     "text": [
      "Epoch: 8, train_loss: 0.9946, val_loss: 0.9906\n"
     ]
    },
    {
     "name": "stderr",
     "output_type": "stream",
     "text": [
      "Epoch 9: 100%|██████████| 284/284 [00:17<00:00, 16.38it/s, train_loss_rmse=0.992]\n"
     ]
    },
    {
     "name": "stdout",
     "output_type": "stream",
     "text": [
      "Epoch: 9, train_loss: 0.9924, val_loss: 0.9895\n"
     ]
    },
    {
     "name": "stderr",
     "output_type": "stream",
     "text": [
      "Epoch 10: 100%|██████████| 284/284 [00:17<00:00, 16.34it/s, train_loss_rmse=0.991]\n"
     ]
    },
    {
     "name": "stdout",
     "output_type": "stream",
     "text": [
      "Epoch: 10, train_loss: 0.9913, val_loss: 0.9880\n"
     ]
    }
   ],
   "source": [
    "for part in data_parts:\n",
    "    print(\"Training on part\", part)\n",
    "\n",
    "    # Loading data for training\n",
    "    train_data = HeteroData(_mapping=torch.load(f\"../data/prepared/data{part}_train.pt\"))\n",
    "    val_data = HeteroData(_mapping=torch.load(f\"../data/prepared/data{part}_val.pt\"))\n",
    "    train_loader = LinkNeighborLoader(\n",
    "        train_data,\n",
    "        num_neighbors=[128] * 2,\n",
    "        batch_size=batch_size,\n",
    "        edge_label_index=((\"user\", \"rates\", \"movie\"), train_data[\"user\", \"rates\", \"movie\"].edge_label_index),\n",
    "        edge_label=train_data[\"user\", \"rates\", \"movie\"].edge_label\n",
    "    )\n",
    "\n",
    "    model = RecSystem(user_dim=24, movie_dim=19, hidden_dim=128).to(device)\n",
    "    optimizer = torch.optim.Adam(model.parameters(), lr=0.001)\n",
    "    best_loss = 1e9\n",
    "    validation_losses, train_losses = [], []\n",
    "    for epoch in range(epochs):\n",
    "        # Train loop\n",
    "        train_loss = train_loop(model, train_loader, optimizer, loss_fn)\n",
    "        train_losses.append(train_loss)\n",
    "\n",
    "        # Validation loop\n",
    "        val_loss = validate(model, val_data, loss_fn)\n",
    "        validation_losses.append(val_loss)\n",
    "\n",
    "        # Saving best model\n",
    "        if val_loss < best_loss:  # Saving best model\n",
    "            best_loss = val_loss\n",
    "            torch.save(model.state_dict(), BEST_MODEL_PATH.format(part))\n",
    "\n",
    "        print(f\"Epoch: {epoch + 1}, train_loss: {train_loss:.4f}, val_loss: {val_loss:.4f}\")\n",
    "\n",
    "    with open(os.path.join(LOGS_DIR_PATH, f\"train_{part}.txt\"), \"w\") as train_data_file:\n",
    "        train_data_file.write(f\"{train_losses}\\n{validation_losses}\")"
   ],
   "metadata": {
    "collapsed": false,
    "ExecuteTime": {
     "end_time": "2023-12-03T09:25:55.699146Z",
     "start_time": "2023-12-03T09:09:06.168837Z"
    }
   }
  },
  {
   "cell_type": "markdown",
   "id": "cd3ff9f1-6d86-4c09-bc80-3b20e7493154",
   "metadata": {},
   "source": [
    "# Visualization"
   ]
  },
  {
   "cell_type": "code",
   "execution_count": 20,
   "outputs": [
    {
     "data": {
      "text/plain": "<Figure size 640x480 with 1 Axes>",
      "image/png": "[encoded data removed]"
     },
     "metadata": {},
     "output_type": "display_data"
    },
    {
     "data": {
      "text/plain": "<Figure size 640x480 with 1 Axes>",
      "image/png": "[encoded data removed]"
     },
     "metadata": {},
     "output_type": "display_data"
    },
    {
     "data": {
      "text/plain": "<Figure size 640x480 with 1 Axes>",
      "image/png": "[encoded data removed]"
     },
     "metadata": {},
     "output_type": "display_data"
    },
    {
     "data": {
      "text/plain": "<Figure size 640x480 with 1 Axes>",
      "image/png": "[encoded data removed]"
     },
     "metadata": {},
     "output_type": "display_data"
    },
    {
     "data": {
      "text/plain": "<Figure size 640x480 with 1 Axes>",
      "image/png": "[encoded data removed]"
     },
     "metadata": {},
     "output_type": "display_data"
    },
    {
     "data": {
      "text/plain": "<Figure size 640x480 with 1 Axes>",
      "image/png": "[encoded data removed]"
     },
     "metadata": {},
     "output_type": "display_data"
    },
    {
     "data": {
      "text/plain": "<Figure size 640x480 with 1 Axes>",
      "image/png": "[encoded data removed]"
     },
     "metadata": {},
     "output_type": "display_data"
    }
   ],
   "source": [
    "import matplotlib.pyplot as plt\n",
    "\n",
    "for part in data_parts:\n",
    "    filepath = os.path.join(LOGS_DIR_PATH, f\"train_{part}.txt\")\n",
    "    with open(filepath, \"r\") as loss_file:\n",
    "        data = loss_file.read().split(\"\\n\")\n",
    "        train_loss, val_loss = eval(data[0]), eval(data[1])\n",
    "\n",
    "    # Plot loss/epoch plots\n",
    "    plt.plot([i for i in range(len(train_loss))], train_loss, label=\"Train loss\")\n",
    "    plt.plot([i for i in range(len(val_loss))], val_loss, label=\"Validation loss\")\n",
    "    # Set labels and titles\n",
    "    plt.xlabel(\"epochs\")\n",
    "    plt.ylabel(\"loss\")\n",
    "    plt.title(f\"u{part}.base RMSE losses\")\n",
    "    plt.legend()\n",
    "    plt.savefig(os.path.join(BENCHMARK_DIR_PATH, f\"plots/u{part}.base_loss.png\"))\n",
    "    plt.show()"
   ],
   "metadata": {
    "collapsed": false,
    "ExecuteTime": {
     "end_time": "2023-12-03T09:26:51.824580Z",
     "start_time": "2023-12-03T09:26:50.909560Z"
    }
   }
  },
  {
   "cell_type": "markdown",
   "source": [
    "## Evaluation"
   ],
   "metadata": {
    "collapsed": false
   }
  },
  {
   "cell_type": "code",
   "execution_count": 9,
   "outputs": [
    {
     "data": {
      "text/plain": "RecSystem(\n  (gnn): GNNModel(\n    (conv1): HeteroConv(num_relations=2)\n    (conv2): HeteroConv(num_relations=2)\n  )\n  (cos_sim): CosineSimilarity()\n)"
     },
     "execution_count": 9,
     "metadata": {},
     "output_type": "execute_result"
    }
   ],
   "source": [
    "model = RecSystem(user_dim=24, movie_dim=19, hidden_dim=128).to(device)\n",
    "model.load_state_dict(torch.load(BEST_MODEL_PATH.format(\"1\")))\n",
    "model.eval()"
   ],
   "metadata": {
    "collapsed": false,
    "ExecuteTime": {
     "end_time": "2023-12-03T13:39:29.781904Z",
     "start_time": "2023-12-03T13:39:29.770364Z"
    }
   }
  },
  {
   "cell_type": "code",
   "execution_count": 10,
   "outputs": [],
   "source": [
    "with torch.no_grad():\n",
    "    # Load train data\n",
    "    data = HeteroData(_mapping=torch.load(f\"../data/prepared/data1_test.pt\"))\n",
    "    user_number = data[\"user\"].x.shape[0]\n",
    "    movie_number = data[\"movie\"].x.shape[0]\n",
    "\n",
    "    full_edges = torch.zeros((2, user_number * movie_number))\n",
    "    for user in range(user_number):\n",
    "        for movie in range(movie_number):\n",
    "            full_edges[0][(user + 1) * (movie + 1) - 1] = user\n",
    "            full_edges[1][(user + 1) * (movie + 1) - 1] = movie\n",
    "    # Predict for each user rating for each movie\n",
    "    embeds = model(data, get_embeddings=True)\n",
    "    full_predictions = model.predict_ratings(embeds[\"user\"], embeds[\"movie\"], full_edges.long())\n",
    "    torch.save(full_predictions, \"../benchmark/full_predictions.pt\")"
   ],
   "metadata": {
    "collapsed": false,
    "ExecuteTime": {
     "end_time": "2023-12-03T12:17:36.484830Z",
     "start_time": "2023-12-03T12:17:28.650590Z"
    }
   }
  }
 ],
 "metadata": {
  "kernelspec": {
   "display_name": "Python 3 (ipykernel)",
   "language": "python",
   "name": "python3"
  },
  "language_info": {
   "codemirror_mode": {
    "name": "ipython",
    "version": 3
   },
   "file_extension": ".py",
   "mimetype": "text/x-python",
   "name": "python",
   "nbconvert_exporter": "python",
   "pygments_lexer": "ipython3",
   "version": "3.11.4"
  }
 },
 "nbformat": 4,
 "nbformat_minor": 5
}
